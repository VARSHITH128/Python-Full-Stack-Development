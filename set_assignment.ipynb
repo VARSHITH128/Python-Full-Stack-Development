{
  "nbformat": 4,
  "nbformat_minor": 0,
  "metadata": {
    "colab": {
      "name": "set assignment.ipynb",
      "provenance": [],
      "collapsed_sections": [],
      "authorship_tag": "ABX9TyMeLdCqXx8UzrpjJAP6QKiB",
      "include_colab_link": true
    },
    "kernelspec": {
      "name": "python3",
      "display_name": "Python 3"
    },
    "language_info": {
      "name": "python"
    }
  },
  "cells": [
    {
      "cell_type": "markdown",
      "metadata": {
        "id": "view-in-github",
        "colab_type": "text"
      },
      "source": [
        "<a href=\"https://colab.research.google.com/github/VARSHITH128/Python-Full-Stack-Development/blob/main/set_assignment.ipynb\" target=\"_parent\"><img src=\"https://colab.research.google.com/assets/colab-badge.svg\" alt=\"Open In Colab\"/></a>"
      ]
    },
    {
      "cell_type": "code",
      "execution_count": null,
      "metadata": {
        "id": "dy4KCuVbOli8",
        "colab": {
          "base_uri": "https://localhost:8080/"
        },
        "outputId": "63f659f2-9e09-42d7-d49b-35bc50967b48"
      },
      "outputs": [
        {
          "output_type": "stream",
          "name": "stdout",
          "text": [
            "{1, 2, 3, 4}\n"
          ]
        }
      ],
      "source": [
        "numberset={1,2,3,4,3,2}\n",
        "print(numberset)"
      ]
    },
    {
      "cell_type": "code",
      "source": [
        "emptyset={}\n",
        "print(type(emptyset))"
      ],
      "metadata": {
        "colab": {
          "base_uri": "https://localhost:8080/"
        },
        "id": "yjtpZ6lcUU2w",
        "outputId": "d3ade846-59a9-4bce-de9f-840c12f92e9c"
      },
      "execution_count": null,
      "outputs": [
        {
          "output_type": "stream",
          "name": "stdout",
          "text": [
            "<class 'dict'>\n"
          ]
        }
      ]
    },
    {
      "cell_type": "code",
      "source": [
        "emptyset=set()\n",
        "print(type(emptyset))"
      ],
      "metadata": {
        "colab": {
          "base_uri": "https://localhost:8080/"
        },
        "id": "Z-r3htXynZIi",
        "outputId": "e1c2478a-4849-41bb-df02-7db63a14e1be"
      },
      "execution_count": null,
      "outputs": [
        {
          "output_type": "stream",
          "name": "stdout",
          "text": [
            "<class 'set'>\n"
          ]
        }
      ]
    },
    {
      "cell_type": "code",
      "source": [
        "my_set ={1.0,\"Hello\",(1,2,3)}\n",
        "print(my_set)"
      ],
      "metadata": {
        "colab": {
          "base_uri": "https://localhost:8080/"
        },
        "id": "IBiJwsWwne1t",
        "outputId": "8db67784-6156-429d-d6a7-9cb0a40a8cd3"
      },
      "execution_count": null,
      "outputs": [
        {
          "output_type": "stream",
          "name": "stdout",
          "text": [
            "{1.0, (1, 2, 3), 'Hello'}\n"
          ]
        }
      ]
    },
    {
      "cell_type": "code",
      "source": [
        "set_with_lists = set([1,2,3])\n",
        "print(type(set_with_lists))\n",
        "print(set_with_lists)"
      ],
      "metadata": {
        "colab": {
          "base_uri": "https://localhost:8080/"
        },
        "id": "5RTHVnWDnnU4",
        "outputId": "3038ac25-7476-4016-8e6b-3168c8292c00"
      },
      "execution_count": null,
      "outputs": [
        {
          "output_type": "stream",
          "name": "stdout",
          "text": [
            "<class 'set'>\n",
            "{1, 2, 3}\n"
          ]
        }
      ]
    },
    {
      "cell_type": "code",
      "source": [
        "my_set=set()\n",
        "my_set.update([9,12])\n",
        "my_set.update((3,5))\n",
        "my_set.update(\"SIKANDHAR\")\n",
        "print(my_set)"
      ],
      "metadata": {
        "colab": {
          "base_uri": "https://localhost:8080/"
        },
        "id": "DyMEuoIkn3ge",
        "outputId": "d27a5c18-63e6-405f-ce61-326dc821f4f9"
      },
      "execution_count": null,
      "outputs": [
        {
          "output_type": "stream",
          "name": "stdout",
          "text": [
            "{3, 'K', 5, 'R', 'D', 9, 'I', 12, 'N', 'A', 'H', 'S'}\n"
          ]
        }
      ]
    },
    {
      "cell_type": "code",
      "source": [
        "my_set.update((\"INDIA\",\"BHARAT\"))\n",
        "print(my_set)"
      ],
      "metadata": {
        "colab": {
          "base_uri": "https://localhost:8080/"
        },
        "id": "07upUjSGoXiM",
        "outputId": "5a437dff-11ff-4001-f9a7-7298c3f6a330"
      },
      "execution_count": null,
      "outputs": [
        {
          "output_type": "stream",
          "name": "stdout",
          "text": [
            "{3, 'K', 5, 'R', 'D', 'INDIA', 9, 'I', 12, 'N', 'BHARAT', 'A', 'H', 'S'}\n"
          ]
        }
      ]
    },
    {
      "cell_type": "code",
      "source": [
        "my_set.discard(15)\n",
        "print(my_set)"
      ],
      "metadata": {
        "colab": {
          "base_uri": "https://localhost:8080/"
        },
        "id": "sBitpX2tor9D",
        "outputId": "3e7790e5-121f-42f0-fac2-ac16305816c8"
      },
      "execution_count": null,
      "outputs": [
        {
          "output_type": "stream",
          "name": "stdout",
          "text": [
            "{3, 'K', 5, 'R', 'D', 'INDIA', 9, 'I', 12, 'N', 'BHARAT', 'A', 'H', 'S'}\n"
          ]
        }
      ]
    },
    {
      "cell_type": "code",
      "source": [
        "print(my_set)\n",
        "my_set.remove(15)"
      ],
      "metadata": {
        "colab": {
          "base_uri": "https://localhost:8080/",
          "height": 200
        },
        "id": "GLraX0_9pYJC",
        "outputId": "b9d4563e-abf5-4b64-a24a-8e20bda90c3d"
      },
      "execution_count": null,
      "outputs": [
        {
          "output_type": "stream",
          "name": "stdout",
          "text": [
            "{3, 'K', 5, 'R', 'D', 'INDIA', 9, 'I', 12, 'N', 'BHARAT', 'A', 'H', 'S'}\n"
          ]
        },
        {
          "output_type": "error",
          "ename": "KeyError",
          "evalue": "ignored",
          "traceback": [
            "\u001b[0;31m---------------------------------------------------------------------------\u001b[0m",
            "\u001b[0;31mKeyError\u001b[0m                                  Traceback (most recent call last)",
            "\u001b[0;32m<ipython-input-23-fde9d8452996>\u001b[0m in \u001b[0;36m<module>\u001b[0;34m()\u001b[0m\n\u001b[1;32m      1\u001b[0m \u001b[0mprint\u001b[0m\u001b[0;34m(\u001b[0m\u001b[0mmy_set\u001b[0m\u001b[0;34m)\u001b[0m\u001b[0;34m\u001b[0m\u001b[0;34m\u001b[0m\u001b[0m\n\u001b[0;32m----> 2\u001b[0;31m \u001b[0mmy_set\u001b[0m\u001b[0;34m.\u001b[0m\u001b[0mremove\u001b[0m\u001b[0;34m(\u001b[0m\u001b[0;36m15\u001b[0m\u001b[0;34m)\u001b[0m\u001b[0;34m\u001b[0m\u001b[0;34m\u001b[0m\u001b[0m\n\u001b[0m",
            "\u001b[0;31mKeyError\u001b[0m: 15"
          ]
        }
      ]
    },
    {
      "cell_type": "code",
      "source": [
        "my_set=set(\"apple\")\n",
        "print('a'in my_set)\n",
        "print('p'not in my_set)"
      ],
      "metadata": {
        "colab": {
          "base_uri": "https://localhost:8080/"
        },
        "id": "vl4Mr3WDq32K",
        "outputId": "631788c3-e77b-45ff-89b8-118b7d7782a5"
      },
      "execution_count": null,
      "outputs": [
        {
          "output_type": "stream",
          "name": "stdout",
          "text": [
            "True\n",
            "False\n"
          ]
        }
      ]
    },
    {
      "cell_type": "code",
      "source": [
        "A={1,2,3,4,5}\n",
        "B={4,5,6,7,8}\n",
        "print('union = ',A|B)\n",
        "print('Intersection = ',A&B)\n",
        "print('Difference = ',A-B)\n",
        "print('Symmetric Diff = ',A^B)"
      ],
      "metadata": {
        "colab": {
          "base_uri": "https://localhost:8080/"
        },
        "id": "PqiNdKmOrH-C",
        "outputId": "5c716341-3006-4d83-99aa-41b85f1d6b82"
      },
      "execution_count": null,
      "outputs": [
        {
          "output_type": "stream",
          "name": "stdout",
          "text": [
            "union =  {1, 2, 3, 4, 5, 6, 7, 8}\n",
            "Intersection =  {4, 5}\n",
            "Difference =  {1, 2, 3}\n",
            "Symmetric Diff =  {1, 2, 3, 6, 7, 8}\n"
          ]
        }
      ]
    },
    {
      "cell_type": "code",
      "source": [
        " studentList = {'danish', 'jaison', 'sangeetha', 'uma', 'amrutha', 'lohita', 'prasad', 'ashwathi'}\n",
        "placedStudList = [\"uma\", \"danish\", \"amrutha\"]\n",
        "notPlacedStudList = set (studentList) - set (placedStudList) \n",
        "print (\"Students yet to get job \\n\", notPlacedStudList)"
      ],
      "metadata": {
        "colab": {
          "base_uri": "https://localhost:8080/"
        },
        "id": "ETAlgfLnr1CJ",
        "outputId": "eb160fed-92ef-4620-92f3-1f5b85dc8d09"
      },
      "execution_count": null,
      "outputs": [
        {
          "output_type": "stream",
          "name": "stdout",
          "text": [
            "Students yet to get job \n",
            " {'ashwathi', 'jaison', 'lohita', 'sangeetha', 'prasad'}\n"
          ]
        }
      ]
    },
    {
      "cell_type": "code",
      "source": [
        "batsmen = [\"virat\", \"rohit\", \"dhawan\", \"dhoni\", \"pandya\", \"jadeja\"]\n",
        "bowlers = [\"bhuvenashwar\", \"shami\", \"pandya\", \"jadeja\", \"kuldeep\"]\n",
        "allrounders = set (batsmen) & set (bowlers)\n",
        "print (\"Batsmen : \", batsmen) \n",
        "print (\"Bowlers : \",bowlers) \n",
        "print (\"All rounders: \", allrounders)"
      ],
      "metadata": {
        "colab": {
          "base_uri": "https://localhost:8080/"
        },
        "id": "Rl5_lxKsuC5u",
        "outputId": "81a7c86d-deda-4992-b2b2-0c4b5eb36627"
      },
      "execution_count": null,
      "outputs": [
        {
          "output_type": "stream",
          "name": "stdout",
          "text": [
            "Batsmen :  ['virat', 'rohit', 'dhawan', 'dhoni', 'pandya', 'jadeja']\n",
            "Bowlers :  ['bhuvenashwar', 'shami', 'pandya', 'jadeja', 'kuldeep']\n",
            "All rounders:  {'pandya', 'jadeja'}\n"
          ]
        }
      ]
    },
    {
      "cell_type": "code",
      "source": [
        "tcs = [\"uma\",\"danish\", \"amrutha\"] \n",
        "infosys = [\"lohita\", \"danish\", \"ashwathi\"] \n",
        "wipro = [\"sangeetha\", \"jaison\", \"prasad\", \"amrutha\"]\n",
        "placed = set (tcs) | set (infosys) | set (wipro)\n",
        "print (placed)\n",
        "print (\"Number of people placed = \", len (placed))"
      ],
      "metadata": {
        "colab": {
          "base_uri": "https://localhost:8080/"
        },
        "id": "hOwjzeqiuwOd",
        "outputId": "d293d3e9-f865-4903-c6ed-2ab522ab7041"
      },
      "execution_count": null,
      "outputs": [
        {
          "output_type": "stream",
          "name": "stdout",
          "text": [
            "{'ashwathi', 'jaison', 'lohita', 'uma', 'sangeetha', 'amrutha', 'danish', 'prasad'}\n",
            "Number of people placed =  8\n"
          ]
        }
      ]
    },
    {
      "cell_type": "code",
      "source": [
        "numbers = {1,2,3,4,5,6,7,8,9,10}\n",
        "\n",
        "odd = {1,3,5,7,9}\n",
        "\n",
        "even = {2,4,6,8,10}\n",
        "\n",
        "print (odd.isdisjoint (even))\n",
        "\n",
        "print (numbers.issuperset (odd))\n",
        "\n",
        "print (odd. issuperset (numbers))\n",
        "\n",
        "print (odd. issubset (numbers))"
      ],
      "metadata": {
        "colab": {
          "base_uri": "https://localhost:8080/"
        },
        "id": "VSlqVwlPvDFY",
        "outputId": "fc4abdfa-cac5-44a2-ac50-2799d648bce2"
      },
      "execution_count": null,
      "outputs": [
        {
          "output_type": "stream",
          "name": "stdout",
          "text": [
            "True\n",
            "True\n",
            "False\n",
            "True\n"
          ]
        }
      ]
    },
    {
      "cell_type": "code",
      "source": [
        "data = \"cranes varsity bangalore\"\n",
        "unique = set (data)\n",
        "print(\"Number of unique characters =\", len (unique)) \n",
        "print (\"List of unique characters = \", unique)\n",
        "data = list(data)\n",
        "for ele in unique:\n",
        " data.remove (ele)\n",
        "print(\"Repeated Characters \",set(data))"
      ],
      "metadata": {
        "colab": {
          "base_uri": "https://localhost:8080/"
        },
        "id": "epb3E0OkvKor",
        "outputId": "1225540a-0e13-4bd9-cc45-54a402a0672a"
      },
      "execution_count": null,
      "outputs": [
        {
          "output_type": "stream",
          "name": "stdout",
          "text": [
            "Number of unique characters = 15\n",
            "List of unique characters =  {'n', 'g', 'b', 'i', 'v', 's', 'y', 'o', 'c', 'a', 'l', ' ', 'e', 't', 'r'}\n",
            "Repeated Characters  {'n', 's', 'a', ' ', 'e', 'r'}\n"
          ]
        }
      ]
    }
  ]
}